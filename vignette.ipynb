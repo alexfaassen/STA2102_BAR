{
 "cells": [
  {
   "cell_type": "markdown",
   "metadata": {},
   "source": [
    "# BAR Vignette"
   ]
  },
  {
   "cell_type": "code",
   "execution_count": null,
   "metadata": {},
   "outputs": [],
   "source": [
    "# Bayesian Autoregressive (BAR) Model Demonstration\n",
    "\n",
    "# Import dependencies\n",
    "import numpy as np\n",
    "import matplotlib.pyplot as plt\n",
    "from bar_module import BayesianAR\n",
    "\n",
    "# Step 1: Generate synthetic time series data\n",
    "np.random.seed(42)\n",
    "n_points = 200\n",
    "time = np.linspace(0, 4 * np.pi, n_points)\n",
    "series = np.sin(time) + np.random.normal(scale=0.3, size=n_points)\n",
    "\n",
    "plt.figure(figsize=(10, 4))\n",
    "plt.plot(series, label=\"Synthetic Time Series\")\n",
    "plt.title(\"Generated Synthetic Time Series Data\")\n",
    "plt.xlabel(\"Time\")\n",
    "plt.ylabel(\"Value\")\n",
    "plt.legend()\n",
    "plt.grid()\n",
    "plt.show()\n",
    "\n",
    "# Step 2: Initialize the BayesianAR model\n",
    "model = BayesianAR(p=3)\n",
    "\n",
    "# Step 3: Fit the model to the synthetic data\n",
    "model.fit(series)\n",
    "\n",
    "# Step 4: Forecast future points\n",
    "n_forecast = 20\n",
    "forecasted_values = model.forecast(series[-3:], steps=n_forecast)\n",
    "\n",
    "# Step 5: Visualize results\n",
    "plt.figure(figsize=(10, 4))\n",
    "plt.plot(series, label=\"Observed Data\", marker='o')\n",
    "forecast_range = np.arange(n_points, n_points + n_forecast)\n",
    "plt.plot(forecast_range, forecasted_values, label=\"Forecasted Data\", marker='x', linestyle='--')\n",
    "plt.xlabel(\"Time\")\n",
    "plt.ylabel(\"Value\")\n",
    "plt.title(\"Bayesian AR Forecast\")\n",
    "plt.legend()\n",
    "plt.grid()\n",
    "plt.show()"
   ]
  }
 ],
 "metadata": {
  "language_info": {
   "name": "python"
  }
 },
 "nbformat": 4,
 "nbformat_minor": 2
}
